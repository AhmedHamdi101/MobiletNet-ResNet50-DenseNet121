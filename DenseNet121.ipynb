{
  "nbformat": 4,
  "nbformat_minor": 0,
  "metadata": {
    "colab": {
      "name": "DenseNet121.ipynb",
      "provenance": []
    },
    "kernelspec": {
      "name": "python3",
      "display_name": "Python 3"
    }
  },
  "cells": [
    {
      "cell_type": "code",
      "metadata": {
        "id": "8H1K8AfzjDMy"
      },
      "source": [
        "from keras.layers import GlobalAvgPool2D\r\n",
        "from keras.layers import MaxPool2D\r\n",
        "from keras.layers import AvgPool2D\r\n",
        "from keras.utils import plot_model\r\n",
        "from keras.models import Model\r\n",
        "from keras.layers import Input\r\n",
        "from keras.layers import Conv2D\r\n",
        "from keras.layers import DepthwiseConv2D\r\n",
        "from keras.layers import BatchNormalization\r\n",
        "from keras.layers import ReLU\r\n",
        "from keras.layers import Dense\r\n",
        "from keras.layers import Concatenate\r\n",
        "from keras.layers.merge import concatenate\r\n",
        "from keras.backend import int_shape"
      ],
      "execution_count": null,
      "outputs": []
    },
    {
      "cell_type": "code",
      "metadata": {
        "id": "0q99X-bPrqpR"
      },
      "source": [
        "input_layer = Input(shape=(224,224, 3))\r\n",
        "model = Create_DenseNet121_Model(input_layer,1000)\r\n",
        "model.summary()"
      ],
      "execution_count": null,
      "outputs": []
    },
    {
      "cell_type": "code",
      "metadata": {
        "id": "S7HSrn85gG2w"
      },
      "source": [
        "def Create_DenseNet121_Model(input_layer,number_classes):\r\n",
        "  \r\n",
        "  filter = 32\r\n",
        "  layer1 = Conv2D(64,(7,7), strides = (2,2) , padding='same')(input_layer)\r\n",
        "  dense_block1 = MaxPool2D((3,3),strides=(2,2), padding='same' )(layer1)\r\n",
        "\r\n",
        "  # dense_block 1\r\n",
        "  for i in range(6):\r\n",
        "    dense_block1 =  dense_layer(dense_block1,filter)\r\n",
        "  \r\n",
        "  #transition_layer  \r\n",
        "  dense_block2 = transition_layer(dense_block1)\r\n",
        "\r\n",
        "  # dense_block 2\r\n",
        "  for i in range(12):\r\n",
        "    dense_block2 = dense_layer(dense_block2,filter)\r\n",
        "\r\n",
        "  #transition_layer  \r\n",
        "  dense_block3 = transition_layer(dense_block2)\r\n",
        "\r\n",
        "  # dense_block 3\r\n",
        "  for i in range(24):\r\n",
        "    dense_block3 =  dense_layer(dense_block3,filter)\r\n",
        "\r\n",
        "  #transition_layer  \r\n",
        "  dense_block4 = transition_layer(dense_block3)\r\n",
        "  \r\n",
        "  # dense_block 4\r\n",
        "  for i in range(16):\r\n",
        "    dense_block4 =  dense_layer(dense_block4,filter)\r\n",
        "  \r\n",
        "  pool = GlobalAvgPool2D()(dense_block4)\r\n",
        "  \r\n",
        "  output = Dense(number_classes, activation='softmax')(pool)\r\n",
        "  \r\n",
        "  model = Model(input_layer, output)\r\n",
        "  return model\r\n"
      ],
      "execution_count": null,
      "outputs": []
    },
    {
      "cell_type": "code",
      "metadata": {
        "id": "PMg5xE-bgjrL"
      },
      "source": [
        "def transition_layer(input_layer):\r\n",
        "  \r\n",
        "  norm = BatchNormalization()(input_layer)\r\n",
        "  relu = ReLU()(norm)\r\n",
        "  # print(int_shape(input_layer)[-1])\r\n",
        "  conv1 = Conv2D(int_shape(input_layer)[-1]//2,(1,1),padding='same')(relu)\r\n",
        "\r\n",
        "  output = AvgPool2D( 2, strides=2, padding='same')(conv1)\r\n",
        "\r\n",
        "  return output\r\n",
        "\r\n",
        "def dense_layer(input_layer,filter):\r\n",
        "\r\n",
        "  norm1 = BatchNormalization()(input_layer)\r\n",
        "  relu1 = ReLU()(norm1)\r\n",
        "  conv1 = Conv2D(4 * filter,(1,1),padding='same')(relu1)\r\n",
        "\r\n",
        "  norm3 = BatchNormalization()(conv1)\r\n",
        "  relu3 = ReLU()(norm3)\r\n",
        "  conv3 = Conv2D(filter,(3,3),padding='same')(relu3)\r\n",
        "\r\n",
        "  output = Concatenate()([ input_layer, conv3])\r\n",
        "\r\n",
        "  return output\r\n"
      ],
      "execution_count": null,
      "outputs": []
    }
  ]
}