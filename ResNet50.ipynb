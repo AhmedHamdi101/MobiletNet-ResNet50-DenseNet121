{
  "nbformat": 4,
  "nbformat_minor": 0,
  "metadata": {
    "colab": {
      "name": "ResNet50.ipynb",
      "provenance": []
    },
    "kernelspec": {
      "name": "python3",
      "display_name": "Python 3"
    }
  },
  "cells": [
    {
      "cell_type": "code",
      "metadata": {
        "id": "1cGUpNBGE_e1"
      },
      "source": [
        "from keras.layers import GlobalAvgPool2D\r\n",
        "from keras.layers import MaxPool2D\r\n",
        "from keras.utils import plot_model\r\n",
        "from keras.models import Model\r\n",
        "from keras.layers import Input\r\n",
        "from keras.layers import Conv2D\r\n",
        "from keras.layers import DepthwiseConv2D\r\n",
        "from keras.layers import BatchNormalization\r\n",
        "from keras.layers import ReLU\r\n",
        "from keras.layers import Dense\r\n",
        "from keras.layers import Add\r\n",
        "from keras.layers.merge import concatenate"
      ],
      "execution_count": null,
      "outputs": []
    },
    {
      "cell_type": "code",
      "metadata": {
        "id": "ERAwej0WLGux"
      },
      "source": [
        "input_layer = Input(shape=(224,224, 3))\r\n",
        "model = Create_Resnet50_Model(input_layer,1000)\r\n",
        "model.summary()\r\n",
        "# =plot_model(model, show_shapes=True, to_file='resnet_module.png')"
      ],
      "execution_count": null,
      "outputs": []
    },
    {
      "cell_type": "code",
      "metadata": {
        "id": "_SQNjqj_FC13"
      },
      "source": [
        "def Create_Resnet50_Model(input_layer,number_classes):\r\n",
        "  \r\n",
        "  layer1 = Conv2D(64,(7,7),strides = (2,2) , padding='same')(input_layer)\r\n",
        "  Layer1_norm = BatchNormalization()(layer1)\r\n",
        "  layer1_relu = ReLU()(Layer1_norm)\r\n",
        "\r\n",
        "  maxpool = MaxPool2D((3,3), strides=(2,2),padding='same' )(layer1_relu)\r\n",
        "  # print(conv_2)\r\n",
        "  #conv_2 x3\r\n",
        "  conv_2 = resnet_conv_layer(maxpool,64,2)\r\n",
        "  for i in range(2):\r\n",
        "    conv_2 = resnet_layer(conv_2 , 64)\r\n",
        "\r\n",
        "  #conv_3 x4\r\n",
        "  conv_3 = resnet_conv_layer(conv_2,128,2)\r\n",
        "  for i in range(3):\r\n",
        "    conv_3 = resnet_layer(conv_3,128)\r\n",
        "\r\n",
        "  #conv_4 x6\r\n",
        "  conv_4 = resnet_conv_layer(conv_3,256,2)\r\n",
        "  for i in range(5):\r\n",
        "    conv_4 = resnet_layer(conv_4,256)\r\n",
        "  \r\n",
        "  #conv_5 x3\r\n",
        "  conv_5 = resnet_conv_layer(conv_4,512,2)\r\n",
        "  for i in range(2):\r\n",
        "    conv_5 = resnet_layer(conv_5,512)\r\n",
        "  \r\n",
        "  pool = GlobalAvgPool2D()(conv_5)\r\n",
        "  output = Dense(number_classes,activation='softmax')(pool)\r\n",
        "\r\n",
        "  model = Model(input_layer,output)\r\n",
        "\r\n",
        "  return model"
      ],
      "execution_count": null,
      "outputs": []
    },
    {
      "cell_type": "code",
      "metadata": {
        "id": "ZMS82DzC8W2I"
      },
      "source": [
        "def resnet_layer(input_layer,filter):\r\n",
        "  \r\n",
        "  conv1 = Conv2D(filter,(1,1))(input_layer)\r\n",
        "  norm_conv1 = BatchNormalization()(conv1)\r\n",
        "  relu_out1 = ReLU()(norm_conv1)\r\n",
        "\r\n",
        "  conv3 = Conv2D(filter,(3,3),padding='same')(relu_out1)\r\n",
        "  norm_conv3 = BatchNormalization()(conv3)\r\n",
        "  relu_out3 = ReLU()(norm_conv3)\r\n",
        "\r\n",
        "  conv1_2 = Conv2D(4 * filter,(1,1))(relu_out3)\r\n",
        "  norm_conv1_2 = BatchNormalization()(conv1_2)\r\n",
        "  adding = Add()([ norm_conv1_2 , input_layer ])\r\n",
        "  \r\n",
        "  output = ReLU()(adding)\r\n",
        "\r\n",
        "  return output\r\n",
        "\r\n",
        "def resnet_conv_layer(input_layer,filter,strides_num):\r\n",
        "\r\n",
        "  conv1 = Conv2D(filter,(1,1))(input_layer)\r\n",
        "  norm_conv1 = BatchNormalization()(conv1)\r\n",
        "  relu_out1 = ReLU()(norm_conv1)\r\n",
        "\r\n",
        "  conv3 = Conv2D(filter,(3,3),strides = (strides_num,strides_num) ,padding='same')(relu_out1)\r\n",
        "  norm_conv3 = BatchNormalization()(conv3)\r\n",
        "  relu_out3 = ReLU()(norm_conv3)\r\n",
        "\r\n",
        "  conv1_2 = Conv2D(4 * filter,(1,1))(relu_out3)\r\n",
        "  norm_conv1_2 = BatchNormalization()(conv1_2)\r\n",
        "  \r\n",
        "  extra_conv =  Conv2D(4 * filter,(1,1),strides = (strides_num,strides_num))(input_layer)\r\n",
        "  extra_norm =  BatchNormalization()(extra_conv)\r\n",
        "\r\n",
        "  adding = Add()([norm_conv1_2, extra_norm])\r\n",
        "  \r\n",
        "  output = ReLU()(adding)\r\n",
        "\r\n",
        "  return output\r\n",
        "\r\n"
      ],
      "execution_count": null,
      "outputs": []
    }
  ]
}